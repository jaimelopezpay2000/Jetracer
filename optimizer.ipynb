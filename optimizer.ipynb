{
 "cells": [
  {
   "cell_type": "markdown",
   "id": "c711cf6d-b8dc-4d20-a7e9-e72b1aaee20e",
   "metadata": {},
   "source": [
    "Define dataset"
   ]
  },
  {
   "cell_type": "code",
   "execution_count": 1,
   "id": "58a7c89c",
   "metadata": {
    "tags": []
   },
   "outputs": [],
   "source": [
    "import numpy\n",
    "from jetcam.csi_camera import CSICamera\n",
    "import torchvision.transforms as transforms\n",
    "from xy_dataset import XYDataset\n",
    "\n",
    "TASK = 'road_following'\n",
    "\n",
    "CATEGORIES = ['apex']\n",
    "\n",
    "DATASETS = ['A', 'B','C','D']\n",
    "\n",
    "TRANSFORMS = transforms.Compose([\n",
    "    transforms.ColorJitter(0.2, 0.2, 0.2, 0.2),\n",
    "    transforms.Resize((224, 224)),\n",
    "    transforms.ToTensor(),\n",
    "    transforms.Normalize([0.485, 0.456, 0.406], [0.229, 0.224, 0.225])\n",
    "])\n",
    "\n",
    "datasets = {}\n",
    "for name in DATASETS:\n",
    "    datasets[name] = XYDataset(TASK + '_' + name, CATEGORIES, TRANSFORMS, random_hflip=True)"
   ]
  },
  {
   "cell_type": "markdown",
   "id": "0580b9b1-116b-4b1e-b83b-993bbbfbe4ec",
   "metadata": {},
   "source": [
    "Define model"
   ]
  },
  {
   "cell_type": "code",
   "execution_count": 2,
   "id": "e3162d8c",
   "metadata": {},
   "outputs": [
    {
     "data": {
      "application/vnd.jupyter.widget-view+json": {
       "model_id": "5a9fa03a3aaf446a9e425b610540f5d3",
       "version_major": 2,
       "version_minor": 0
      },
      "text/plain": [
       "VBox(children=(Text(value='road_following_model.pth', description='model path'), Text(value='file.txt', descri…"
      ]
     },
     "metadata": {},
     "output_type": "display_data"
    }
   ],
   "source": [
    "\n",
    "import torch\n",
    "import cv2\n",
    "import ipywidgets\n",
    "import traitlets\n",
    "from IPython.display import display\n",
    "from jetcam.utils import bgr8_to_jpeg\n",
    "from jupyter_clickable_image_widget import ClickableImageWidget\n",
    "import torchvision\n",
    "dataset = datasets[DATASETS[3]]\n",
    "device = torch.device('cuda')\n",
    "output_dim = 2 * len(dataset.categories)  # x, y coordinate for each category\n",
    "\n",
    "# ALEXNET\n",
    "model = torchvision.models.alexnet(pretrained=True)\n",
    "model.classifier[-1] = torch.nn.Linear(4096, output_dim)\n",
    "\n",
    "# SQUEEZENET \n",
    "#model = torchvision.models.squeezenet1_1(pretrained=True)\n",
    "#model.classifier[1] = torch.nn.Conv2d(512, output_dim, kernel_size=1)\n",
    "#model.num_classes = len(dataset.categories)\n",
    "\n",
    "# RESNET 18\n",
    "#model = torchvision.models.resnet18(pretrained=True)\n",
    "#model.fc = torch.nn.Linear(512, output_dim)\n",
    "\n",
    "# RESNET 34\n",
    "#model = torchvision.models.resnet34(pretrained=True)\n",
    "#model.fc = torch.nn.Linear(512, output_dim)\n",
    "\n",
    "# DENSENET 121\n",
    "#model = torchvision.models.densenet121(pretrained=True)\n",
    "#model.classifier = torch.nn.Linear(1024, output_dim)\n",
    "\n",
    "model = model.to(device)\n",
    "\n",
    "model_save_button = ipywidgets.Button(description='save model')\n",
    "model_load_button = ipywidgets.Button(description='load model')\n",
    "model_path_widget = ipywidgets.Text(description='model path', value='road_following_model.pth')\n",
    "file_widget = ipywidgets.Text(description='file path', value='file.txt')\n",
    "\n",
    "def load_model(c):\n",
    "    model.load_state_dict(torch.load(model_path_widget.value))\n",
    "model_load_button.on_click(load_model)\n",
    "    \n",
    "def save_model(c):\n",
    "    torch.save(model.state_dict(), model_path_widget.value)\n",
    "model_save_button.on_click(save_model)\n",
    "\n",
    "model_widget = ipywidgets.VBox([\n",
    "    model_path_widget,file_widget,\n",
    "    ipywidgets.HBox([model_load_button, model_save_button])\n",
    "])\n",
    "\n",
    "\n",
    "display(model_widget)"
   ]
  },
  {
   "cell_type": "markdown",
   "id": "d8a24fe3-82aa-4180-ba07-7e953fc86c3b",
   "metadata": {},
   "source": [
    "Train model"
   ]
  },
  {
   "cell_type": "code",
   "execution_count": 3,
   "id": "b401a26b",
   "metadata": {},
   "outputs": [
    {
     "data": {
      "application/vnd.jupyter.widget-view+json": {
       "model_id": "58000763ffff4c2a862ff7acf494c35d",
       "version_major": 2,
       "version_minor": 0
      },
      "text/plain": [
       "VBox(children=(IntText(value=1, description='epochs'), FloatProgress(value=0.0, description='progress', max=1.…"
      ]
     },
     "metadata": {},
     "output_type": "display_data"
    }
   ],
   "source": [
    "import copy\n",
    "import time\n",
    "import pandas as pd\n",
    "BATCH_SIZE = 30\n",
    "\n",
    "optimizer = torch.optim.Adam(model.parameters())\n",
    "#optimizer = torch.optim.SGD(model.parameters(), lr=1e-3, momentum=0.9)\n",
    "\n",
    "epochs_widget = ipywidgets.IntText(description='epochs', value=1)\n",
    "eval_button = ipywidgets.Button(description='evaluate')\n",
    "train_button = ipywidgets.Button(description='train')\n",
    "loss_widget = ipywidgets.FloatText(description='loss')\n",
    "progress_widget = ipywidgets.FloatProgress(min=0.0, max=1.0, description='progress')\n",
    "\n",
    "\n",
    "\n",
    "\n",
    "def train_eval(is_training):\n",
    "    global BATCH_SIZE, LEARNING_RATE, MOMENTUM, model, dataset, optimizer, eval_button, train_button, accuracy_widget, loss_widget, progress_widget, state_widget\n",
    "    \n",
    "    #try:\n",
    "    train_loader = torch.utils.data.DataLoader(\n",
    "        dataset,\n",
    "        batch_size=BATCH_SIZE,\n",
    "        shuffle=True\n",
    "    )\n",
    "\n",
    "    #state_widget.value = 'stop'\n",
    "    train_button.disabled = True\n",
    "    eval_button.disabled = True\n",
    "    time.sleep(1)\n",
    "\n",
    "    if is_training:\n",
    "        model = model.train()\n",
    "    else:\n",
    "        model = model.eval()\n",
    "    data = pd.DataFrame({\"epoch\":[],\"time\":[],\"loss\":[]})\n",
    "    total_epochs = epochs_widget.value\n",
    "    \n",
    "\n",
    "    while epochs_widget.value > 0:\n",
    "        i = 0\n",
    "        sum_loss = 0.0\n",
    "        error_count = 0.0\n",
    "        t_in = time.time()\n",
    "        for images, category_idx, xy in iter(train_loader):\n",
    "            # send data to device\n",
    "            images = images.to(device)\n",
    "            xy = xy.to(device)\n",
    "            if is_training:\n",
    "                # zero gradients of parameters\n",
    "                optimizer.zero_grad()\n",
    "\n",
    "            # execute model to get outputs\n",
    "            outputs = model(images)\n",
    "            # compute MSE loss over x, y coordinates for associated categories\n",
    "            loss = 0.0\n",
    "            for batch_idx, cat_idx in enumerate(list(category_idx.flatten())):\n",
    "                loss += torch.mean((outputs[batch_idx][2 * cat_idx:2 * cat_idx+2] - xy[batch_idx])**2)\n",
    "            loss /= len(category_idx)\n",
    "\n",
    "            if is_training:\n",
    "                # run backpropogation to accumulate gradients\n",
    "                loss.backward()\n",
    "\n",
    "                # step optimizer to adjust parameters\n",
    "                optimizer.step()\n",
    "\n",
    "            # increment progress\n",
    "            count = len(category_idx.flatten())\n",
    "            i += count\n",
    "            sum_loss += float(loss)\n",
    "            progress_widget.value = i / len(dataset)\n",
    "            loss_widget.value = sum_loss / i\n",
    "            \n",
    "        \n",
    "        if is_training:\n",
    "            epochs_widget.value = epochs_widget.value - 1\n",
    "        else:\n",
    "            break\n",
    "        t = time.time()-t_in\n",
    "        epoch = total_epochs - epochs_widget.value\n",
    "        data = pd.concat([data,pd.DataFrame({\"epoch\":[epoch],\"time\":[t],\"loss\":[sum_loss/i]})])\n",
    "    model = model.eval()\n",
    "    \n",
    "    path = file_widget.value\n",
    "    with open(path, 'a') as f:\n",
    "        df_string = data.to_string(index=False)\n",
    "        f.write(df_string)\n",
    "    train_button.disabled = False\n",
    "    eval_button.disabled = False\n",
    "    #state_widget.value = 'live'\n",
    "    \n",
    "train_button.on_click(lambda c: train_eval(is_training=True))\n",
    "eval_button.on_click(lambda c: train_eval(is_training=False))\n",
    "    \n",
    "train_eval_widget = ipywidgets.VBox([\n",
    "    epochs_widget,\n",
    "    progress_widget,\n",
    "    loss_widget,\n",
    "    ipywidgets.HBox([train_button, eval_button])\n",
    "])\n",
    "\n",
    "display(train_eval_widget)"
   ]
  },
  {
   "cell_type": "markdown",
   "id": "fffdfbb2-a14c-4906-bda8-8dac37d3821c",
   "metadata": {},
   "source": [
    "Convert model to trt"
   ]
  },
  {
   "cell_type": "code",
   "execution_count": 10,
   "id": "66d281f2",
   "metadata": {},
   "outputs": [],
   "source": [
    "import torch\n",
    "import torchvision\n",
    "\n",
    "CATEGORIES = ['apex']\n",
    "    \n",
    "device = torch.device('cuda')\n",
    "# ALEXNET\n",
    "#model = torchvision.models.alexnet(pretrained=False)\n",
    "#model.classifier[-1] = torch.nn.Linear(4096, output_dim)\n",
    "\n",
    "#RESNET18\n",
    "model = torchvision.models.resnet18(pretrained=False)\n",
    "model.fc = torch.nn.Linear(512, 2 * len(CATEGORIES))\n",
    "\n",
    "# SQUEEZENET \n",
    "#model = torchvision.models.squeezenet1_1(pretrained=True)\n",
    "#model.classifier[1] = torch.nn.Conv2d(512, output_dim, kernel_size=1)\n",
    "#model.num_classes = len(dataset.categories)\n",
    "\n",
    "# RESNET 34\n",
    "#model = torchvision.models.resnet34(pretrained=False)\n",
    "#model.fc = torch.nn.Linear(512, output_dim)\n",
    "\n",
    "model = model.cuda().eval().half()\n",
    "model.load_state_dict(torch.load(model_path_widget.value))\n",
    "from torch2trt import torch2trt\n",
    "\n",
    "data = torch.zeros((1, 3, 224, 224)).cuda().half()\n",
    "\n",
    "model_trt = torch2trt(model, [data], fp16_mode=True)\n",
    "torch.save(model_trt.state_dict(), model_path_widget.value[:-4]+'_trt.pth')"
   ]
  }
 ],
 "metadata": {
  "kernelspec": {
   "display_name": "Python 3 (ipykernel)",
   "language": "python",
   "name": "python3"
  },
  "language_info": {
   "codemirror_mode": {
    "name": "ipython",
    "version": 3
   },
   "file_extension": ".py",
   "mimetype": "text/x-python",
   "name": "python",
   "nbconvert_exporter": "python",
   "pygments_lexer": "ipython3",
   "version": "3.8.5"
  }
 },
 "nbformat": 4,
 "nbformat_minor": 5
}
