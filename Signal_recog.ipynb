{
 "cells": [
  {
   "cell_type": "markdown",
   "id": "5c71815d-20b1-42b5-87a3-0db9af3da945",
   "metadata": {},
   "source": [
    "Initialize camera"
   ]
  },
  {
   "cell_type": "code",
   "execution_count": 1,
   "id": "66fdf79e",
   "metadata": {},
   "outputs": [],
   "source": [
    "from jetcam.csi_camera import CSICamera\n",
    "from jetcam.utils import bgr8_to_jpeg\n",
    "\n",
    "camera = CSICamera(width=224, height=224, capture_fps=20)"
   ]
  },
  {
   "cell_type": "markdown",
   "id": "05950e76-2a94-4d42-90f5-4377d5036b78",
   "metadata": {},
   "source": [
    "Load model"
   ]
  },
  {
   "cell_type": "code",
   "execution_count": 3,
   "id": "fde3b5d8",
   "metadata": {},
   "outputs": [],
   "source": [
    "from utils import preprocess\n",
    "import torchvision\n",
    "import torch\n",
    "from torch2trt import TRTModule\n",
    "\n",
    "#model = TRTModule()\n",
    "#ALEXNET\n",
    "model = torchvision.models.alexnet(pretrained=False)\n",
    "model.classifier[6] = torch.nn.Linear(model.classifier[6].in_features, 8)\n",
    "model.load_state_dict(torch.load('best_model2.pth'))\n",
    "device = torch.device('cuda')\n",
    "model = model.to(device)"
   ]
  },
  {
   "cell_type": "markdown",
   "id": "07e3215a-6195-4568-bad7-3c02f60d81ed",
   "metadata": {},
   "source": [
    "Define display"
   ]
  },
  {
   "cell_type": "code",
   "execution_count": 4,
   "id": "54b7860f",
   "metadata": {},
   "outputs": [],
   "source": [
    "import traitlets\n",
    "from IPython.display import display\n",
    "import ipywidgets.widgets as widgets\n",
    "\n",
    "#image = widgets.Image(format='jpeg', width=224, height=224)\n",
    "#camera_link = traitlets.dlink((camera, 'value'), (image, 'value'), transform=bgr8_to_jpeg)\n",
    "\n",
    "blocked_disp = widgets.FloatProgress(\n",
    "    value=0.5,\n",
    "    min=0,\n",
    "    max=1.0,\n",
    "    description='Blocked probability:',\n",
    "    bar_style='info',\n",
    "    style={'bar_color': '#ffff00'},\n",
    "    orientation='horizontal'\n",
    ")\n",
    "\n",
    "free_disp = widgets.FloatProgress(\n",
    "    value=0.5,\n",
    "    min=0,\n",
    "    max=1.0,\n",
    "    description='Free probability:',\n",
    "    bar_style='info',\n",
    "    style={'bar_color': '#ffff00'},\n",
    "    orientation='horizontal'\n",
    ")\n",
    "\n",
    "\n",
    "fid1_disp = widgets.FloatProgress(\n",
    "    value=0.5,\n",
    "    min=0,\n",
    "    max=1.0,\n",
    "    description='Fid1 probability:',\n",
    "    bar_style='info',\n",
    "    style={'bar_color': '#ffff00'},\n",
    "    orientation='horizontal'\n",
    ")\n",
    "\n",
    "fid2_disp = widgets.FloatProgress(\n",
    "    value=0.5,\n",
    "    min=0,\n",
    "    max=1.0,\n",
    "    description='Fid2 probability:',\n",
    "    bar_style='info',\n",
    "    style={'bar_color': '#ffff00'},\n",
    "    orientation='horizontal'\n",
    ")\n",
    "fid3_disp = widgets.FloatProgress(\n",
    "    value=0.5,\n",
    "    min=0,\n",
    "    max=1.0,\n",
    "    description='Fid3 probability:',\n",
    "    bar_style='info',\n",
    "    style={'bar_color': '#ffff00'},\n",
    "    orientation='horizontal'\n",
    ")\n",
    "\n",
    "fid4_disp = widgets.FloatProgress(\n",
    "    value=0.5,\n",
    "    min=0,\n",
    "    max=1.0,\n",
    "    description='Fid4 probability:',\n",
    "    bar_style='info',\n",
    "    style={'bar_color': '#ffff00'},\n",
    "    orientation='horizontal'\n",
    ")\n",
    "\n",
    "fid5_disp = widgets.FloatProgress(\n",
    "    value=0.5,\n",
    "    min=0,\n",
    "    max=1.0,\n",
    "    description='Fid5 probability:',\n",
    "    bar_style='info',\n",
    "    style={'bar_color': '#ffff00'},\n",
    "    orientation='horizontal'\n",
    ")\n",
    "\n",
    "fid6_disp = widgets.FloatProgress(\n",
    "    value=0.5,\n",
    "    min=0,\n",
    "    max=1.0,\n",
    "    description='Fid6 probability:',\n",
    "    bar_style='info',\n",
    "    style={'bar_color': '#ffff00'},\n",
    "    orientation='horizontal'\n",
    ")"
   ]
  },
  {
   "cell_type": "markdown",
   "id": "dbcf59e7-68fa-4d05-a6d9-9030f190d58f",
   "metadata": {},
   "source": [
    "Main block"
   ]
  },
  {
   "cell_type": "code",
   "execution_count": null,
   "id": "461c39d9",
   "metadata": {},
   "outputs": [
    {
     "data": {
      "application/vnd.jupyter.widget-view+json": {
       "model_id": "40c724fe3e004922b89f31f377a74556",
       "version_major": 2,
       "version_minor": 0
      },
      "text/plain": [
       "FloatProgress(value=0.0060855369083583355, bar_style='info', description='Free probability:', max=1.0, style=P…"
      ]
     },
     "metadata": {},
     "output_type": "display_data"
    },
    {
     "data": {
      "application/vnd.jupyter.widget-view+json": {
       "model_id": "ebe99e35f73a498f8a49669164987239",
       "version_major": 2,
       "version_minor": 0
      },
      "text/plain": [
       "FloatProgress(value=0.00850686151534319, bar_style='info', description='Blocked probability:', max=1.0, style=…"
      ]
     },
     "metadata": {},
     "output_type": "display_data"
    },
    {
     "data": {
      "application/vnd.jupyter.widget-view+json": {
       "model_id": "8bd51de625ff491082b8cd462d9999c2",
       "version_major": 2,
       "version_minor": 0
      },
      "text/plain": [
       "FloatProgress(value=0.8759209513664246, bar_style='info', description='Fid1 probability:', max=1.0, style=Prog…"
      ]
     },
     "metadata": {},
     "output_type": "display_data"
    },
    {
     "data": {
      "application/vnd.jupyter.widget-view+json": {
       "model_id": "eaa68ae99d8648b3b49ae9a5f95370c5",
       "version_major": 2,
       "version_minor": 0
      },
      "text/plain": [
       "FloatProgress(value=0.0013910921989008784, bar_style='info', description='Fid2 probability:', max=1.0, style=P…"
      ]
     },
     "metadata": {},
     "output_type": "display_data"
    },
    {
     "data": {
      "application/vnd.jupyter.widget-view+json": {
       "model_id": "ce777808aa484c758b01d28e12dc54be",
       "version_major": 2,
       "version_minor": 0
      },
      "text/plain": [
       "FloatProgress(value=0.0009444953757338226, bar_style='info', description='Fid3 probability:', max=1.0, style=P…"
      ]
     },
     "metadata": {},
     "output_type": "display_data"
    },
    {
     "data": {
      "application/vnd.jupyter.widget-view+json": {
       "model_id": "81c497071aac4e788e118b6e7ab8f147",
       "version_major": 2,
       "version_minor": 0
      },
      "text/plain": [
       "FloatProgress(value=0.0020928301382809877, bar_style='info', description='Fid4 probability:', max=1.0, style=P…"
      ]
     },
     "metadata": {},
     "output_type": "display_data"
    },
    {
     "data": {
      "application/vnd.jupyter.widget-view+json": {
       "model_id": "c4c64a974dbe454d88cef0c021cd5838",
       "version_major": 2,
       "version_minor": 0
      },
      "text/plain": [
       "FloatProgress(value=0.09779951721429825, bar_style='info', description='Fid5 probability:', max=1.0, style=Pro…"
      ]
     },
     "metadata": {},
     "output_type": "display_data"
    },
    {
     "data": {
      "application/vnd.jupyter.widget-view+json": {
       "model_id": "1a6ffa60bc914db9b4a1c44622cdaa87",
       "version_major": 2,
       "version_minor": 0
      },
      "text/plain": [
       "FloatProgress(value=0.007258803583681583, bar_style='info', description='Fid6 probability:', max=1.0, style=Pr…"
      ]
     },
     "metadata": {},
     "output_type": "display_data"
    }
   ],
   "source": [
    "display(free_disp,blocked_disp,fid1_disp,fid2_disp,fid3_disp,fid4_disp,fid5_disp,fid6_disp)\n",
    "import torch.nn.functional as F\n",
    "import time\n",
    "\n",
    "#Take image\n",
    "for i in range(30):\n",
    "    x = camera.read()\n",
    "x = preprocess(x)\n",
    "y = model(x)\n",
    "\n",
    "\n",
    "# we apply the `softmax` function to normalize the output vector so it sums to 1 (which makes it a probability distribution)\n",
    "y = F.softmax(y, dim=1)\n",
    "\n",
    "#Display probabilities\n",
    "prob_blocked = float(y.flatten()[0])\n",
    "blocked_disp.value = prob_blocked\n",
    "prob_fid1 = float(y.flatten()[1])\n",
    "fid1_disp.value = prob_fid1\n",
    "prob_fid2 = float(y.flatten()[2])\n",
    "fid2_disp.value = prob_fid2\n",
    "prob_fid3 = float(y.flatten()[3])\n",
    "fid3_disp.value = prob_fid3\n",
    "prob_fid4 = float(y.flatten()[4])\n",
    "fid4_disp.value = prob_fid4\n",
    "prob_fid5 = float(y.flatten()[5])\n",
    "fid5_disp.value = prob_fid5\n",
    "prob_fid6 = float(y.flatten()[6])\n",
    "fid6_disp.value = prob_fid6\n",
    "prob_free = float(y.flatten()[7])\n",
    "free_disp.value = prob_free\n",
    "\n",
    "\n"
   ]
  }
 ],
 "metadata": {
  "kernelspec": {
   "display_name": "Python 3 (ipykernel)",
   "language": "python",
   "name": "python3"
  },
  "language_info": {
   "codemirror_mode": {
    "name": "ipython",
    "version": 3
   },
   "file_extension": ".py",
   "mimetype": "text/x-python",
   "name": "python",
   "nbconvert_exporter": "python",
   "pygments_lexer": "ipython3",
   "version": "3.8.5"
  }
 },
 "nbformat": 4,
 "nbformat_minor": 5
}
