{
 "cells": [
  {
   "cell_type": "markdown",
   "id": "ec2a2371-661f-4a38-869b-d4aa793525b6",
   "metadata": {},
   "source": [
    "Initialize controller"
   ]
  },
  {
   "cell_type": "code",
   "execution_count": 1,
   "id": "a7b2a0be",
   "metadata": {},
   "outputs": [
    {
     "data": {
      "application/vnd.jupyter.widget-view+json": {
       "model_id": "8d1c702a66bb40ca8c7e0a15ddafddca",
       "version_major": 2,
       "version_minor": 0
      },
      "text/plain": [
       "Controller()"
      ]
     },
     "metadata": {},
     "output_type": "display_data"
    }
   ],
   "source": [
    "import ipywidgets.widgets as widgets\n",
    "\n",
    "controller = widgets.Controller(index=0)  # replace with index of your controller\n",
    "\n",
    "display(controller)"
   ]
  },
  {
   "cell_type": "markdown",
   "id": "bb7ed943-4e46-406e-9feb-622fca5baf13",
   "metadata": {},
   "source": [
    "Initialize car"
   ]
  },
  {
   "cell_type": "code",
   "execution_count": 2,
   "id": "09bf9bdf",
   "metadata": {},
   "outputs": [],
   "source": [
    "from jetracer.nvidia_racecar import NvidiaRacecar\n",
    "import traitlets\n",
    "\n",
    "car = NvidiaRacecar()\n",
    "\n",
    "car.throttle_gain = 0.6\n",
    "car.steering_offset=-0.25"
   ]
  },
  {
   "cell_type": "markdown",
   "id": "864ebf21-26e3-4f1e-bebe-bc0931490ee0",
   "metadata": {},
   "source": [
    "Link controls"
   ]
  },
  {
   "cell_type": "code",
   "execution_count": 4,
   "id": "3073a1fd",
   "metadata": {},
   "outputs": [],
   "source": [
    "left_link = traitlets.dlink((controller.axes[0], 'value'), (car, 'steering'), transform=lambda x: x)\n",
    "right_link = traitlets.dlink((controller.axes[3], 'value'), (car, 'throttle'), transform=lambda x: x)"
   ]
  }
 ],
 "metadata": {
  "kernelspec": {
   "display_name": "Python 3 (ipykernel)",
   "language": "python",
   "name": "python3"
  },
  "language_info": {
   "codemirror_mode": {
    "name": "ipython",
    "version": 3
   },
   "file_extension": ".py",
   "mimetype": "text/x-python",
   "name": "python",
   "nbconvert_exporter": "python",
   "pygments_lexer": "ipython3",
   "version": "3.8.5"
  }
 },
 "nbformat": 4,
 "nbformat_minor": 5
}
