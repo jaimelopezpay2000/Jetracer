{
 "cells": [
  {
   "cell_type": "markdown",
   "id": "d169b42c",
   "metadata": {},
   "source": [
    "We initialize the camera and the car"
   ]
  },
  {
   "cell_type": "code",
   "execution_count": 1,
   "id": "3c8c16f3",
   "metadata": {},
   "outputs": [],
   "source": [
    "from jetcam.csi_camera import CSICamera\n",
    "from jetcam.utils import bgr8_to_jpeg\n",
    "\n",
    "camera = CSICamera(width=224, height=224, capture_fps=20)\n",
    "\n",
    "from jetracer.nvidia_racecar import NvidiaRacecar\n",
    "\n",
    "car = NvidiaRacecar()"
   ]
  },
  {
   "cell_type": "markdown",
   "id": "050950b7",
   "metadata": {},
   "source": [
    "We load the road following model"
   ]
  },
  {
   "cell_type": "code",
   "execution_count": 2,
   "id": "753aedcc",
   "metadata": {},
   "outputs": [
    {
     "data": {
      "text/plain": [
       "<All keys matched successfully>"
      ]
     },
     "execution_count": 2,
     "metadata": {},
     "output_type": "execute_result"
    }
   ],
   "source": [
    "import torch\n",
    "from torch2trt import TRTModule\n",
    "\n",
    "model_trt = TRTModule()\n",
    "model_trt.load_state_dict(torch.load('road_following_resnet18_50_trt.pth'))"
   ]
  },
  {
   "cell_type": "markdown",
   "id": "430a5b8f",
   "metadata": {},
   "source": [
    "We set up the car and load the preprocess of images"
   ]
  },
  {
   "cell_type": "code",
   "execution_count": 3,
   "id": "8b238508",
   "metadata": {},
   "outputs": [],
   "source": [
    "from utils import preprocess\n",
    "\n",
    "STEERING_GAIN = 1\n",
    "STEERING_BIAS = 0.35"
   ]
  },
  {
   "cell_type": "markdown",
   "id": "be010862",
   "metadata": {},
   "source": [
    "We load the signal recognition model"
   ]
  },
  {
   "cell_type": "code",
   "execution_count": 4,
   "id": "ba03d74f",
   "metadata": {},
   "outputs": [],
   "source": [
    "import torchvision\n",
    "from torch2trt import TRTModule\n",
    "\n",
    "#model = TRTModule()\n",
    "#ALEXNET\n",
    "model = torchvision.models.alexnet(pretrained=False)\n",
    "model.classifier[6] = torch.nn.Linear(model.classifier[6].in_features, 8)\n",
    "model.load_state_dict(torch.load('best_model2.pth'))\n",
    "device = torch.device('cuda')\n",
    "model = model.to(device)"
   ]
  },
  {
   "cell_type": "markdown",
   "id": "a1ea7fad",
   "metadata": {},
   "source": [
    "We set up the display"
   ]
  },
  {
   "cell_type": "code",
   "execution_count": 5,
   "id": "f474357d",
   "metadata": {},
   "outputs": [],
   "source": [
    "import traitlets\n",
    "from IPython.display import display\n",
    "import ipywidgets.widgets as widgets\n",
    "\n",
    "#image = widgets.Image(format='jpeg', width=224, height=224)\n",
    "#camera_link = traitlets.dlink((camera, 'value'), (image, 'value'), transform=bgr8_to_jpeg)\n",
    "\n",
    "blocked_disp = widgets.FloatProgress(\n",
    "    value=0.5,\n",
    "    min=0,\n",
    "    max=1.0,\n",
    "    description='Blocked probability:',\n",
    "    bar_style='info',\n",
    "    style={'bar_color': '#ffff00'},\n",
    "    orientation='horizontal'\n",
    ")\n",
    "\n",
    "free_disp = widgets.FloatProgress(\n",
    "    value=0.5,\n",
    "    min=0,\n",
    "    max=1.0,\n",
    "    description='Free probability:',\n",
    "    bar_style='info',\n",
    "    style={'bar_color': '#ffff00'},\n",
    "    orientation='horizontal'\n",
    ")\n",
    "\n",
    "\n",
    "fid1_disp = widgets.FloatProgress(\n",
    "    value=0.5,\n",
    "    min=0,\n",
    "    max=1.0,\n",
    "    description='Fid1 probability:',\n",
    "    bar_style='info',\n",
    "    style={'bar_color': '#ffff00'},\n",
    "    orientation='horizontal'\n",
    ")\n",
    "\n",
    "fid2_disp = widgets.FloatProgress(\n",
    "    value=0.5,\n",
    "    min=0,\n",
    "    max=1.0,\n",
    "    description='Fid2 probability:',\n",
    "    bar_style='info',\n",
    "    style={'bar_color': '#ffff00'},\n",
    "    orientation='horizontal'\n",
    ")\n",
    "fid3_disp = widgets.FloatProgress(\n",
    "    value=0.5,\n",
    "    min=0,\n",
    "    max=1.0,\n",
    "    description='Fid3 probability:',\n",
    "    bar_style='info',\n",
    "    style={'bar_color': '#ffff00'},\n",
    "    orientation='horizontal'\n",
    ")\n",
    "\n",
    "fid4_disp = widgets.FloatProgress(\n",
    "    value=0.5,\n",
    "    min=0,\n",
    "    max=1.0,\n",
    "    description='Fid4 probability:',\n",
    "    bar_style='info',\n",
    "    style={'bar_color': '#ffff00'},\n",
    "    orientation='horizontal'\n",
    ")\n",
    "\n",
    "fid5_disp = widgets.FloatProgress(\n",
    "    value=0.5,\n",
    "    min=0,\n",
    "    max=1.0,\n",
    "    description='Fid5 probability:',\n",
    "    bar_style='info',\n",
    "    style={'bar_color': '#ffff00'},\n",
    "    orientation='horizontal'\n",
    ")\n",
    "\n",
    "fid6_disp = widgets.FloatProgress(\n",
    "    value=0.5,\n",
    "    min=0,\n",
    "    max=1.0,\n",
    "    description='Fid6 probability:',\n",
    "    bar_style='info',\n",
    "    style={'bar_color': '#ffff00'},\n",
    "    orientation='horizontal'\n",
    ")\n",
    "\n",
    "steering_disp = widgets.FloatProgress(\n",
    "    value=0.0,\n",
    "    min=-1.0,\n",
    "    max=1.0,\n",
    "    description='Direction:',\n",
    "    bar_style='info',\n",
    "    style={'bar_color': '#ffff00'},\n",
    "    orientation='horizontal'\n",
    ")\n",
    "\n",
    "fps = widgets.FloatText(\n",
    "    value=0.0,\n",
    "    description='FPS:',\n",
    "    disabled=False\n",
    ")\n",
    "\n",
    "obj = widgets.FloatText(\n",
    "    value=1,\n",
    "    description='Objetivo:',\n",
    "    disabled=False\n",
    ")\n",
    "\n"
   ]
  },
  {
   "cell_type": "markdown",
   "id": "8cd60a1d",
   "metadata": {},
   "source": [
    "Main function"
   ]
  },
  {
   "cell_type": "code",
   "execution_count": null,
   "id": "b220c56c",
   "metadata": {},
   "outputs": [
    {
     "data": {
      "application/vnd.jupyter.widget-view+json": {
       "model_id": "b4b632f3d7ff4f438d491f2aceae000e",
       "version_major": 2,
       "version_minor": 0
      },
      "text/plain": [
       "FloatProgress(value=0.8852289319038391, bar_style='info', description='Blocked probability:', max=1.0, style=P…"
      ]
     },
     "metadata": {},
     "output_type": "display_data"
    },
    {
     "data": {
      "application/vnd.jupyter.widget-view+json": {
       "model_id": "98d25db48ea14141b0ffbe804646051b",
       "version_major": 2,
       "version_minor": 0
      },
      "text/plain": [
       "FloatProgress(value=0.00021143819321878254, bar_style='info', description='Free probability:', max=1.0, style=…"
      ]
     },
     "metadata": {},
     "output_type": "display_data"
    },
    {
     "data": {
      "application/vnd.jupyter.widget-view+json": {
       "model_id": "78f810f5b83840cf81b0857e8dd4c1ca",
       "version_major": 2,
       "version_minor": 0
      },
      "text/plain": [
       "FloatProgress(value=0.0029916835483163595, bar_style='info', description='Fid1 probability:', max=1.0, style=P…"
      ]
     },
     "metadata": {},
     "output_type": "display_data"
    },
    {
     "data": {
      "application/vnd.jupyter.widget-view+json": {
       "model_id": "a67cbc3965d24ee19ee4d77ada4da23e",
       "version_major": 2,
       "version_minor": 0
      },
      "text/plain": [
       "FloatProgress(value=0.0001714760874165222, bar_style='info', description='Fid2 probability:', max=1.0, style=P…"
      ]
     },
     "metadata": {},
     "output_type": "display_data"
    },
    {
     "data": {
      "application/vnd.jupyter.widget-view+json": {
       "model_id": "aee7681e11f74a2886aef800119ca60c",
       "version_major": 2,
       "version_minor": 0
      },
      "text/plain": [
       "FloatProgress(value=0.0005005797138437629, bar_style='info', description='Fid3 probability:', max=1.0, style=P…"
      ]
     },
     "metadata": {},
     "output_type": "display_data"
    },
    {
     "data": {
      "application/vnd.jupyter.widget-view+json": {
       "model_id": "36facfd582bf44a8a7338bfa9e610274",
       "version_major": 2,
       "version_minor": 0
      },
      "text/plain": [
       "FloatProgress(value=0.007059911731630564, bar_style='info', description='Fid4 probability:', max=1.0, style=Pr…"
      ]
     },
     "metadata": {},
     "output_type": "display_data"
    },
    {
     "data": {
      "application/vnd.jupyter.widget-view+json": {
       "model_id": "cae10c20ac1a47fb96b07bad8be0081f",
       "version_major": 2,
       "version_minor": 0
      },
      "text/plain": [
       "FloatProgress(value=0.4787761867046356, bar_style='info', description='Fid5 probability:', max=1.0, style=Prog…"
      ]
     },
     "metadata": {},
     "output_type": "display_data"
    },
    {
     "data": {
      "application/vnd.jupyter.widget-view+json": {
       "model_id": "0ae2af365b3c417eb7dfbdd7a30a450e",
       "version_major": 2,
       "version_minor": 0
      },
      "text/plain": [
       "FloatProgress(value=0.005457055754959583, bar_style='info', description='Fid6 probability:', max=1.0, style=Pr…"
      ]
     },
     "metadata": {},
     "output_type": "display_data"
    },
    {
     "data": {
      "application/vnd.jupyter.widget-view+json": {
       "model_id": "240307973f594e75b32194fa94e6e5e1",
       "version_major": 2,
       "version_minor": 0
      },
      "text/plain": [
       "FloatProgress(value=-0.1375732421875, bar_style='info', description='Direction:', max=1.0, min=-1.0, style=Pro…"
      ]
     },
     "metadata": {},
     "output_type": "display_data"
    },
    {
     "data": {
      "application/vnd.jupyter.widget-view+json": {
       "model_id": "24e4214467874d8a8605e7daa2d20b8f",
       "version_major": 2,
       "version_minor": 0
      },
      "text/plain": [
       "FloatText(value=8.275498486684002, description='FPS:')"
      ]
     },
     "metadata": {},
     "output_type": "display_data"
    },
    {
     "data": {
      "application/vnd.jupyter.widget-view+json": {
       "model_id": "e56f6d79c75841ef8b7cbfab8fcecd4c",
       "version_major": 2,
       "version_minor": 0
      },
      "text/plain": [
       "FloatText(value=1.0, description='Objetivo:')"
      ]
     },
     "metadata": {},
     "output_type": "display_data"
    }
   ],
   "source": [
    "display(blocked_disp,free_disp,fid1_disp,fid2_disp,fid3_disp,fid4_disp,fid5_disp,fid6_disp,steering_disp,fps,obj)\n",
    "import torch.nn.functional as F\n",
    "import time\n",
    "\n",
    "t_dir = 0.0\n",
    "n_dir = 0.0\n",
    "t_tot = 0.0\n",
    "n_tot = 0\n",
    "fps_tot = 0\n",
    "t_tot_1 = time.time() \n",
    "\n",
    "objetivo = 1\n",
    "obj.value = objetivo\n",
    "while True:\n",
    "    t_tot = time.time()\n",
    "    fps_tot = 1/(t_tot-t_tot_1)\n",
    "    t_tot_1 = t_tot\n",
    "    fps.value = fps_tot\n",
    "    for i in range(3):\n",
    "        x = camera.read()\n",
    "    x = preprocess(x)\n",
    "    y = model(x)\n",
    "    \n",
    "\n",
    "    # we apply the `softmax` function to normalize the output vector so it sums to 1 (which makes it a probability distribution)\n",
    "    y = F.softmax(y, dim=1)\n",
    "    \n",
    "    prob_blocked = float(y.flatten()[0])\n",
    "    blocked_disp.value = prob_blocked\n",
    "    prob_fid1 = float(y.flatten()[1])\n",
    "    fid1_disp.value = prob_fid1\n",
    "    prob_fid2 = float(y.flatten()[2])\n",
    "    fid2_disp.value = prob_fid2\n",
    "    prob_fid3 = float(y.flatten()[3])\n",
    "    fid3_disp.value = prob_fid3\n",
    "    prob_fid4 = float(y.flatten()[4])\n",
    "    fid4_disp.value = prob_fid4\n",
    "    prob_fid5 = float(y.flatten()[5])\n",
    "    fid5_disp.value = prob_fid5\n",
    "    prob_fid6 = float(y.flatten()[6])\n",
    "    fid6_disp.value = prob_fid6\n",
    "    prob_free = float(y.flatten()[7])\n",
    "    free_disp.value = prob_free\n",
    "    \n",
    "    \n",
    "    prob_max = float(max(y.flatten()))\n",
    "    \n",
    "    \n",
    "    if prob_blocked == prob_max:\n",
    "        car.throttle = 0.0\n",
    "    elif prob_fid1 == prob_max and objetivo == 1:\n",
    "        objetivo = 4\n",
    "        car.throttle = 0.0\n",
    "        time.sleep(1)\n",
    "        obj.value = objetivo\n",
    "    elif prob_fid4 == prob_max and objetivo == 4:\n",
    "        objetivo = 1\n",
    "        car.throttle = 0.0\n",
    "        time.sleep(4)\n",
    "        obj.value = objetivo\n",
    "    elif prob_fid6 == prob_max and objetivo == 6:\n",
    "        objetivo = 1\n",
    "        car.throttle = 0.0\n",
    "        time.sleep(6)\n",
    "        obj.value = objetivo\n",
    "    else:\n",
    "        time_stop = 0\n",
    "        car.throttle = -0.65\n",
    "        for i in range(3):\n",
    "            x = camera.read()\n",
    "        x = preprocess(x)\n",
    "        x = x.half()\n",
    "        output = model_trt(x).detach().cpu().numpy().flatten()\n",
    "        x1 = float(output[0])\n",
    "        car.steering = x1 * STEERING_GAIN + STEERING_BIAS\n",
    "        steering_disp.value = x1\n",
    "\n"
   ]
  },
  {
   "cell_type": "markdown",
   "id": "2af41692",
   "metadata": {},
   "source": [
    "Stop the car"
   ]
  },
  {
   "cell_type": "code",
   "execution_count": 20,
   "id": "f495f9ed",
   "metadata": {},
   "outputs": [],
   "source": [
    "car.throttle = 0.0\n"
   ]
  }
 ],
 "metadata": {
  "kernelspec": {
   "display_name": "Python 3",
   "language": "python",
   "name": "python3"
  },
  "language_info": {
   "codemirror_mode": {
    "name": "ipython",
    "version": 3
   },
   "file_extension": ".py",
   "mimetype": "text/x-python",
   "name": "python",
   "nbconvert_exporter": "python",
   "pygments_lexer": "ipython3",
   "version": "3.6.9"
  }
 },
 "nbformat": 4,
 "nbformat_minor": 5
}
